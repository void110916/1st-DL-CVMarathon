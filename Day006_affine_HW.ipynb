{
 "nbformat": 4,
 "nbformat_minor": 2,
 "metadata": {
  "language_info": {
   "name": "python",
   "codemirror_mode": {
    "name": "ipython",
    "version": 3
   },
   "version": "3.7.1"
  },
  "orig_nbformat": 2,
  "file_extension": ".py",
  "mimetype": "text/x-python",
  "name": "python",
  "npconvert_exporter": "python",
  "pygments_lexer": "ipython3",
  "version": 3
 },
 "cells": [
  {
   "cell_type": "code",
   "execution_count": 2,
   "metadata": {},
   "outputs": [],
   "source": [
    "import cv2\n",
    "import numpy as np\n",
    "img=cv2.imread(\"lena.png\",cv2.IMREAD_COLOR)\n",
    "row,cols=img.shape[:2]\n",
    "M=cv2.getRotationMatrix2D((row//2,cols//2),45,0.5)\n",
    "img1=cv2.warpAffine(img,M,(cols,row))\n",
    "tran=np.array([[1,0,100],[0,1,-50]],dtype=np.float32)\n",
    "img2=cv2.warpAffine(img1,tran,(cols,row))\n",
    "\n",
    "output=np.hstack((img,img2))\n",
    "cv2.imshow('input',output)\n",
    "cv2.waitKey(0)\n",
    "cv2.destroyAllWindows()"
   ]
  },
  {
   "cell_type": "code",
   "execution_count": null,
   "metadata": {},
   "outputs": [],
   "source": []
  }
 ]
}