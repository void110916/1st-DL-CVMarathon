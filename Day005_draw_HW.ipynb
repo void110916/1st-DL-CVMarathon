{
 "nbformat": 4,
 "nbformat_minor": 2,
 "metadata": {
  "language_info": {
   "name": "python",
   "codemirror_mode": {
    "name": "ipython",
    "version": 3
   },
   "version": "3.7.1"
  },
  "orig_nbformat": 2,
  "file_extension": ".py",
  "mimetype": "text/x-python",
  "name": "python",
  "npconvert_exporter": "python",
  "pygments_lexer": "ipython3",
  "version": 3
 },
 "cells": [
  {
   "cell_type": "code",
   "execution_count": 1,
   "metadata": {},
   "outputs": [],
   "source": [
    "import cv2\n",
    "\n",
    "img=cv2.imread('lena.png')\n",
    "cv2.imshow('input',img)\n",
    "\n",
    "img_scale=cv2.rectangle(img,(60,40),(420,510),(0,0,255),4)\n",
    "img_scale=cv2.resize(img_scale,None,fx=0.5,fy=0.5)\n",
    "img_mir=img_scale[:,::-1,:]\n",
    "img_mir=cv2.cvtColor(img_mir,cv2.COLOR_BGR2HSV)\n",
    "img_mir[:,:,2]=cv2.equalizeHist(img_mir[:,:,2])\n",
    "img_mir=cv2.cvtColor(img_mir,cv2.COLOR_HSV2BGR)\n",
    "cv2.imshow('output',img_mir)\n",
    "\n",
    "cv2.waitKey(0)\n",
    "cv2.destroyAllWindows()"
   ]
  },
  {
   "cell_type": "code",
   "execution_count": null,
   "metadata": {},
   "outputs": [],
   "source": []
  }
 ]
}