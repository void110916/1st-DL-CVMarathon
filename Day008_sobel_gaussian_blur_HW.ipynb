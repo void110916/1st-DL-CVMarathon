{
 "nbformat": 4,
 "nbformat_minor": 2,
 "metadata": {
  "language_info": {
   "name": "python",
   "codemirror_mode": {
    "name": "ipython",
    "version": 3
   },
   "version": "3.7.1"
  },
  "orig_nbformat": 2,
  "file_extension": ".py",
  "mimetype": "text/x-python",
  "name": "python",
  "npconvert_exporter": "python",
  "pygments_lexer": "ipython3",
  "version": 3
 },
 "cells": [
  {
   "cell_type": "code",
   "execution_count": 2,
   "metadata": {},
   "outputs": [],
   "source": [
    "import cv2\n",
    "import numpy as np\n",
    "img=cv2.imread(\"lena.png\",cv2.IMREAD_COLOR)\n",
    "\n",
    "img1=cv2.GaussianBlur(img,(13,13),3)\n",
    "\n",
    "img2=cv2.cvtColor(img,cv2.COLOR_BGR2GRAY)\n",
    "img2_x=cv2.Sobel(img2,cv2.CV_16S,dx=1,dy=0,ksize=3)\n",
    "img2_x=cv2.convertScaleAbs(img2_x)\n",
    "img2_x_0x=cv2.Sobel(img2_x,cv2.CV_8U,dx=1,dy=0,ksize=3)\n",
    "output1=np.hstack((img,img1))\n",
    "output2=np.hstack((img2_x,img2_x_0x))\n",
    "\n",
    "img3_dx=cv2.Sobel(img2,cv2.CV_16S,dx=1,dy=0,ksize=3)\n",
    "img3_dxx=cv2.Sobel(img2,cv2.cv2.CV_16S,dx=2,dy=0,ksize=3)\n",
    "img3_dx=cv2.convertScaleAbs(img3_dx)\n",
    "img3_dxx=cv2.convertScaleAbs(img3_dxx)\n",
    "output3=np.hstack((img3_dx,img3_dxx))\n",
    "\n",
    "cv2.imshow('output',output1)\n",
    "cv2.imshow(\"soble_cv8s,cv8u\",output2)\n",
    "cv2.imshow('soble_dx,dxx',output3)\n",
    "cv2.waitKey(0)\n",
    "cv2.destroyAllWindows()"
   ]
  },
  {
   "cell_type": "code",
   "execution_count": null,
   "metadata": {},
   "outputs": [],
   "source": []
  }
 ]
}