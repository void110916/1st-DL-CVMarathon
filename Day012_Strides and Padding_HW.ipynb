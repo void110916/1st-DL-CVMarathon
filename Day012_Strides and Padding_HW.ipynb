{
 "nbformat": 4,
 "nbformat_minor": 2,
 "metadata": {
  "language_info": {
   "name": "python",
   "codemirror_mode": {
    "name": "ipython",
    "version": 3
   }
  },
  "orig_nbformat": 2,
  "file_extension": ".py",
  "mimetype": "text/x-python",
  "name": "python",
  "npconvert_exporter": "python",
  "pygments_lexer": "ipython3",
  "version": 3
 },
 "cells": [
  {
   "cell_type": "code",
   "execution_count": null,
   "metadata": {},
   "outputs": [],
   "source": [
    "from keras.models import Sequential\n",
    "from keras.layers import Convolution2D\n",
    "from keras.layers import Input, Dense\n",
    "from keras.models import Model\n",
    "\n",
    "\n",
    "##kernel size=(6,6)\n",
    "##kernel數量：32\n",
    "\n",
    "## Same padding、strides=(1,1)\n",
    "classifier=Sequential()\n",
    "inputs = Input(shape=(13,13,1))\n",
    "x=Convolution2D(32,(6,6),padding=\"SAME\",strides=(1,1))(inputs)\n",
    "model = Model(inputs=inputs, outputs=x)\n",
    "model.summary()\n",
    "## Same padding、strides=(2,2)\n",
    "classifier=Sequential()\n",
    "inputs = Input(shape=(13,13,1))\n",
    "x=Convolution2D(32,(6,6),padding=\"SAME\",strides=(2,2))(inputs)\n",
    "model = Model(inputs=inputs, outputs=x)\n",
    "model.summary()\n",
    "## Valid padding、strides=(1,1)\n",
    "classifier=Sequential()\n",
    "inputs = Input(shape=(13,13,1))\n",
    "x=Convolution2D(32,(6,6),padding=\"Valid\",strides=(1,1))(inputs)\n",
    "model = Model(inputs=inputs, outputs=x)\n",
    "model.summary()\n",
    "## Valid padding、strides=(2,2)\n",
    "classifier=Sequential()\n",
    "inputs = Input(shape=(13,13,1))\n",
    "x=Convolution2D(32,(6,6),padding=\"Valid\",strides=(2,2))(inputs)\n",
    "model = Model(inputs=inputs, outputs=x)\n",
    "model.summary()"
   ]
  }
 ]
}