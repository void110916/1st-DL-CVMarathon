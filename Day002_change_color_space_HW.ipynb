{
 "nbformat": 4,
 "nbformat_minor": 2,
 "metadata": {
  "language_info": {
   "name": "python",
   "codemirror_mode": {
    "name": "ipython",
    "version": 3
   },
   "version": "3.7.1"
  },
  "orig_nbformat": 2,
  "file_extension": ".py",
  "mimetype": "text/x-python",
  "name": "python",
  "npconvert_exporter": "python",
  "pygments_lexer": "ipython3",
  "version": 3
 },
 "cells": [
  {
   "cell_type": "code",
   "execution_count": 4,
   "metadata": {},
   "outputs": [],
   "source": [
    "import cv2\n",
    "img1 = cv2.imread('lena.png', cv2.IMREAD_COLOR)\n",
    "cv2.imshow('BGR', img1)\n",
    "\n",
    "img2=cv2.cvtColor(img1, cv2.COLOR_BGR2HLS)\n",
    "cv2.imshow('HLS', img2)\n",
    "\n",
    "img3=cv2.cvtColor(img1, cv2.COLOR_BGR2LAB)\n",
    "cv2.imshow('LAB', img3)\n",
    "\n",
    "cv2.waitKey(0)\n",
    "cv2.destroyAllWindows()"
   ]
  },
  {
   "cell_type": "code",
   "execution_count": null,
   "metadata": {},
   "outputs": [],
   "source": []
  }
 ]
}