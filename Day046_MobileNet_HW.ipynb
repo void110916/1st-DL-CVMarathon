{
 "cells": [
  {
   "cell_type": "markdown",
   "metadata": {},
   "source": [
    "# 作業"
   ]
  },
  {
   "cell_type": "markdown",
   "metadata": {},
   "source": [
    "### 嘗試用 keras 的 DepthwiseConv2D 等 layers 實做 Separable Convolution.\n",
    "   - depthwise's filter shape 爲 (3,3), padding = same\n",
    "   - pointwise's filters size 爲 128\n",
    "   - 不需要給 alpha, depth multiplier 參數"
   ]
  },
  {
   "cell_type": "markdown",
   "metadata": {},
   "source": [
    "##### 載入套件"
   ]
  },
  {
   "cell_type": "code",
   "execution_count": 1,
   "metadata": {},
   "outputs": [
    {
     "name": "stderr",
     "output_type": "stream",
     "text": "Using TensorFlow backend.\n"
    }
   ],
   "source": [
    "from keras.models import Input, Model\n",
    "from keras.layers import DepthwiseConv2D, Conv2D, BatchNormalization, ReLU"
   ]
  },
  {
   "cell_type": "markdown",
   "metadata": {},
   "source": [
    "##### 定義 Separable Convolution 函數 (請在此實做)"
   ]
  },
  {
   "cell_type": "code",
   "execution_count": 13,
   "metadata": {},
   "outputs": [],
   "source": [
    "def SeparableConv(input):\n",
    "    '''\n",
    "    Args:\n",
    "        input: input tensor\n",
    "    Output:\n",
    "        output: output tensor\n",
    "    '''\n",
    "    # 定義神經網路的輸入\n",
    "    \n",
    "\n",
    "    x=Conv2D(filters=3, kernel_size=3, padding='same')(input)\n",
    "    x=Conv2D(filters=3, kernel_size=3 ,padding='same')(x)\n",
    "    x=BatchNormalization()(x)\n",
    "    x=ReLU()(x)\n",
    "    x=Conv2D(filters=128, kernel_size=3 ,padding='same')(x)\n",
    "    x=BatchNormalization()(x)\n",
    "    x=ReLU()(x)\n",
    "\n",
    "    return x"
   ]
  },
  {
   "cell_type": "markdown",
   "metadata": {},
   "source": [
    "##### 建構模型"
   ]
  },
  {
   "cell_type": "code",
   "execution_count": 14,
   "metadata": {},
   "outputs": [
    {
     "name": "stdout",
     "output_type": "stream",
     "text": "_________________________________________________________________\nLayer (type)                 Output Shape              Param #   \n=================================================================\ninput_8 (InputLayer)         (None, 64, 64, 3)         0         \n_________________________________________________________________\nconv2d_8 (Conv2D)            (None, 64, 64, 3)         84        \n_________________________________________________________________\nconv2d_9 (Conv2D)            (None, 64, 64, 3)         84        \n_________________________________________________________________\nbatch_normalization_5 (Batch (None, 64, 64, 3)         12        \n_________________________________________________________________\nre_lu_5 (ReLU)               (None, 64, 64, 3)         0         \n_________________________________________________________________\nconv2d_10 (Conv2D)           (None, 64, 64, 128)       3584      \n_________________________________________________________________\nbatch_normalization_6 (Batch (None, 64, 64, 128)       512       \n_________________________________________________________________\nre_lu_6 (ReLU)               (None, 64, 64, 128)       0         \n=================================================================\nTotal params: 4,276\nTrainable params: 4,014\nNon-trainable params: 262\n_________________________________________________________________\n"
    }
   ],
   "source": [
    "input = Input((64, 64, 3))\n",
    "output = SeparableConv(input)\n",
    "model = Model(inputs=input, outputs=output)\n",
    "model.summary()"
   ]
  },
  {
   "cell_type": "code",
   "execution_count": null,
   "metadata": {
    "collapsed": true
   },
   "outputs": [],
   "source": []
  }
 ],
 "metadata": {
  "kernelspec": {
   "display_name": "Python 3",
   "language": "python",
   "name": "python3"
  },
  "language_info": {
   "codemirror_mode": {
    "name": "ipython",
    "version": 3
   },
   "file_extension": ".py",
   "mimetype": "text/x-python",
   "name": "python",
   "nbconvert_exporter": "python",
   "pygments_lexer": "ipython3",
   "version": "3.6.10-final"
  }
 },
 "nbformat": 4,
 "nbformat_minor": 0
}