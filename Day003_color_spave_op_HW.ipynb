{
 "nbformat": 4,
 "nbformat_minor": 2,
 "metadata": {
  "language_info": {
   "name": "python",
   "codemirror_mode": {
    "name": "ipython",
    "version": 3
   },
   "version": "3.7.1"
  },
  "orig_nbformat": 2,
  "file_extension": ".py",
  "mimetype": "text/x-python",
  "name": "python",
  "npconvert_exporter": "python",
  "pygments_lexer": "ipython3",
  "version": 3
 },
 "cells": [
  {
   "cell_type": "code",
   "execution_count": 6,
   "metadata": {},
   "outputs": [],
   "source": [
    "import cv2\n",
    "img = cv2.imread('lena.png',cv2.IMREAD_COLOR)\n",
    "cv2.imshow('imput',img)\n",
    "\n",
    "# 1.改變 color space 來調整飽和度\n",
    "# decrease\n",
    "img_hsv=img\n",
    "img_hsv = cv2.cvtColor(img_hsv , cv2.COLOR_BGR2HSV)\n",
    "img_hsv_de=img_hsv.astype('float32')\n",
    "img_hsv_de[...,1] = img_hsv[...,1]/255 - 0.2\n",
    "img_hsv_de[img_hsv_de[..., 1] < 0] = 0\n",
    "img_hsv_de[...,1]=img_hsv_de[...,1]*255\n",
    "img_hsv_de=img_hsv_de.astype('uint8')\n",
    "img_out=cv2.cvtColor(img_hsv_de,cv2.COLOR_HSV2BGR)\n",
    "cv2.imshow('output_decrease',img_out)\n",
    "# increase\n",
    "img_hsv_in=img_hsv.astype('float32')\n",
    "img_hsv_in[...,1] = img_hsv[...,1]/255 + 0.2\n",
    "img_hsv_in[img_hsv_in[..., 1] > 1] = 1\n",
    "img_hsv_in[...,1]=img_hsv_in[...,1]*255\n",
    "img_hsv_in=img_hsv_in.astype('uint8')\n",
    "img_out=cv2.cvtColor(img_hsv_in,cv2.COLOR_HSV2BGR)\n",
    "cv2.imshow('output_increase',img_out)\n",
    "\n",
    "# 3.alpha/ beta 調整對比 / 明亮\n",
    "img_HSV=img\n",
    "contrast=cv2.convertScaleAbs(img_HSV,alpha=2,beta=0)\n",
    "lightness=cv2.convertScaleAbs(img_HSV,alpha=1,beta=50)\n",
    "cv2.imshow(\"contrast\",contrast)\n",
    "cv2.imshow('lightness',lightness)\n",
    "\n",
    "# 2.實作直方圖均衡\n",
    "# 對 RGB 圖直接處理\n",
    "img_bgr=img\n",
    "img_hsv=cv2.cvtColor(img,cv2.COLOR_BGR2HSV)\n",
    "for i in range (3):\n",
    "    img_bgr[...,i]=cv2.equalizeHist(img_bgr[...,i])\n",
    "cv2.imshow(\"case1_equalizeHist_BGR\",img_bgr)\n",
    "# 改變 color space 改明亮度\n",
    "img_hsv[...,2]=cv2.equalizeHist(img_hsv[...,2])\n",
    "img_out=cv2.cvtColor(img_hsv,cv2.COLOR_HSV2BGR)\n",
    "cv2.imshow(\"case2_equalizeHist_HSV\",img_out)\n",
    "\n",
    "\n",
    "cv2.waitKey(0)\n",
    "cv2.destroyAllWindows()"
   ]
  },
  {
   "cell_type": "code",
   "execution_count": null,
   "metadata": {},
   "outputs": [],
   "source": []
  }
 ]
}