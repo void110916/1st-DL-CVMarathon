{
 "nbformat": 4,
 "nbformat_minor": 2,
 "metadata": {
  "language_info": {
   "name": "python",
   "codemirror_mode": {
    "name": "ipython",
    "version": 3
   },
   "version": "3.7.1"
  },
  "orig_nbformat": 2,
  "file_extension": ".py",
  "mimetype": "text/x-python",
  "name": "python",
  "npconvert_exporter": "python",
  "pygments_lexer": "ipython3",
  "version": 3
 },
 "cells": [
  {
   "cell_type": "code",
   "execution_count": 1,
   "metadata": {},
   "outputs": [
    {
     "name": "stdout",
     "output_type": "stream",
     "text": "nearest cost time0.001001119613647461\ncubic cost time0.0029926300048828125\n"
    }
   ],
   "source": [
    "import cv2\n",
    "import time\n",
    "import numpy as np\n",
    "img=cv2.imread('lena.png',cv2.IMREAD_COLOR)\n",
    "cv2.imshow('input',img)\n",
    "\n",
    "img_hor=img[::-1,:,:]\n",
    "cv2.imshow('horizenal change',img_hor)\n",
    "img_ver=img[:,::-1,:]\n",
    "cv2.imshow('vertical change',img_ver)\n",
    "\n",
    "img_scale=cv2.resize(img,None,fx=0.2,fy=0.2)\n",
    "start_t=time.time()\n",
    "img_scale_out=cv2.resize(img_scale,None,fx=8,fy=8,interpolation=cv2.INTER_NEAREST)\n",
    "print('nearest cost time{}'.format(time.time()-start_t))\n",
    "cv2.imshow('nearest',img_scale_out)\n",
    "\n",
    "img_scale=cv2.resize(img,None,fx=0.2,fy=0.2)\n",
    "start_t=time.time()\n",
    "img_scale_out=cv2.resize(img_scale,None,fx=8,fy=8,interpolation=cv2.INTER_CUBIC)\n",
    "print('cubic cost time{}'.format(time.time()-start_t))\n",
    "cv2.imshow('cubic',img_scale_out)\n",
    "\n",
    "img_shift=img\n",
    "M=np.array([[1.0,0,100],[0,1.0,50]])\n",
    "img_shift=cv2.warpAffine(img,M,(img.shape[0],img.shape[1]))\n",
    "cv2.imshow('shift',img_shift)\n",
    "\n",
    "cv2.waitKey(0)\n",
    "cv2.destroyAllWindows()"
   ]
  },
  {
   "cell_type": "code",
   "execution_count": null,
   "metadata": {},
   "outputs": [],
   "source": []
  }
 ]
}